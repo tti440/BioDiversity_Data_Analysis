{
 "cells": [
  {
   "cell_type": "markdown",
   "metadata": {},
   "source": [
    "# Introduction \n",
    "biodiversity data from the National Parks Service, particularly around various species observed in different national park locations\n",
    "\n",
    "My Questions to seek:\n",
    "- What is the percentage of each conservation_status for species\n",
    "- How each category is distributed into conservation_status\n",
    "- Are the differences between species and their conservation status significant\n",
    "- Which animal is most prevalent and what the distribution for this animal is across each park\n",
    "\n",
    "**Data sources:**\n",
    "\n",
    "Both `Observations.csv` and `Species_info.csv` was provided by [Codecademy.com](https://www.codecademy.com).\n",
    "\n",
    "Note: The data for this project is *inspired* by real data, but is mostly fictional.\n",
    "\n",
    "### Analysis\n",
    "\n",
    "In this section, descriptive statistics and data visualization techniques will be employed to understand the data better. Statistical inference will also be used to test if the observed values are statistically significant. Some of the key metrics that will be computed include: \n",
    "\n",
    "1. Distributions\n",
    "1. counts(sum)\n",
    "1. relationship between species with chi_2\n",
    "1. conservation status of species\n",
    "1. observations of species in parks. "
   ]
  },
  {
   "cell_type": "code",
   "execution_count": 2,
   "metadata": {},
   "outputs": [],
   "source": [
    "import pandas as pd\n",
    "import matplotlib.pyplot as plt\n",
    "import seaborn as sns\n",
    "observation=pd.read_csv(\"observations.csv\")\n",
    "species=pd.read_csv(\"species_info.csv\")"
   ]
  },
  {
   "cell_type": "markdown",
   "metadata": {},
   "source": [
    "# Data Characteristics\n",
    "observation data\n",
    "- it has 23296 entries with 3 columns\n",
    "- two are object dtype, and the other, obseravtions, is int64 dtype\n",
    "- there are no null values (e.g, nan)\n",
    "- there are 4 observations at 4 different parks for each species(5824 species_name with 4 entries=23296 entries)\n",
    "\n",
    "species data\n",
    "- it has 5824 entries with 4 columns\n",
    "- all columns are object dtype\n",
    "- conservation_status has only 191 entries (non_null)\n",
    "- category values are nominal, ['Mammal' 'Bird' 'Reptile' 'Amphibian' 'Fish' 'Vascular Plant'\n",
    " 'Nonvascular Plant']\n",
    "- conservation_status has [nan 'Species of Concern' 'Endangered' 'Threatened' 'In Recovery']\n"
   ]
  },
  {
   "cell_type": "code",
   "execution_count": 3,
   "metadata": {},
   "outputs": [
    {
     "name": "stdout",
     "output_type": "stream",
     "text": [
      "            scientific_name                            park_name  observations\n",
      "0        Vicia benghalensis  Great Smoky Mountains National Park            68\n",
      "1            Neovison vison  Great Smoky Mountains National Park            77\n",
      "2         Prunus subcordata               Yosemite National Park           138\n",
      "3      Abutilon theophrasti                  Bryce National Park            84\n",
      "4  Githopsis specularioides  Great Smoky Mountains National Park            85\n",
      "<class 'pandas.core.frame.DataFrame'>\n",
      "RangeIndex: 23296 entries, 0 to 23295\n",
      "Data columns (total 3 columns):\n",
      " #   Column           Non-Null Count  Dtype \n",
      "---  ------           --------------  ----- \n",
      " 0   scientific_name  23296 non-null  object\n",
      " 1   park_name        23296 non-null  object\n",
      " 2   observations     23296 non-null  int64 \n",
      "dtypes: int64(1), object(2)\n",
      "memory usage: 546.1+ KB\n",
      "None\n",
      "['Vicia benghalensis' 'Neovison vison' 'Prunus subcordata' ...\n",
      " 'Ranunculus hebecarpus' 'Gulo gulo' 'Dichanthelium depauperatum']\n",
      "['Great Smoky Mountains National Park' 'Yosemite National Park'\n",
      " 'Bryce National Park' 'Yellowstone National Park']\n",
      "[ 68  77 138  84  85 112 228  39 168 250 103 114 101 279  72  65 143 165\n",
      " 150  80  83 109 158 167 135 247  73 261 177 117  79  96 140 116 239 262\n",
      "  71 176 148  76 235 283  25 246  64 281  88  67 254 152 147 213 265 107\n",
      " 156  47 157  89 154 127 106  75  36 137 244  63 214  92 108  54 105 115\n",
      "  98 223  82  90 218  58  59  48 208  95  70 100  49  56 134  91  86 136\n",
      " 257 123 263 118 258 252  27  74  94 132  57 282 110 253 267 230 124 131\n",
      " 164 260 119 233 245  60 151  66 206 189 242 111 120 243 276 237  29 220\n",
      " 266 166  53 240  55 215 125  99 199 128 232 251 269 163  93 241 122  69\n",
      "  97 149 141 142 216 113 145  43 229 234 153 212 172 146 291 160 188 256\n",
      " 129 227 264 192 159 139 144  34 236  81  78 174  45 201 155 133 249 219\n",
      " 238 161  52 130  61 102 273 259 126 289 210  87  42 305  62  35 184  30\n",
      "  46 255 186 162 203 222 225 170  50 169 285 183  38 280 221 248 197 294\n",
      " 104 274 181 297 284 175 295 293 121 194 270 286 272 217  37 193 287 190\n",
      " 268 204 278 191 317 171 200  40 180 179  44 304 224 277 275 231 288 185\n",
      " 209 207  31  51 173  26 271 312 178 226 187 296  41 205 182 300  20  23\n",
      " 211 290  33  14 292 298 301 302 196 299  19  24 202 195  32 307  22 314\n",
      "  28  21 316   9 198  13  17 303  15 306 321  18  10  11  12 310]\n"
     ]
    }
   ],
   "source": [
    "print(observation.head())\n",
    "print(observation.info())\n",
    "print(observation.scientific_name.unique())\n",
    "print(observation.park_name.unique())\n",
    "print(observation.observations.unique())\n"
   ]
  },
  {
   "cell_type": "code",
   "execution_count": 4,
   "metadata": {},
   "outputs": [
    {
     "name": "stdout",
     "output_type": "stream",
     "text": [
      "  category                scientific_name  \\\n",
      "0   Mammal  Clethrionomys gapperi gapperi   \n",
      "1   Mammal                      Bos bison   \n",
      "2   Mammal                     Bos taurus   \n",
      "3   Mammal                     Ovis aries   \n",
      "4   Mammal                 Cervus elaphus   \n",
      "\n",
      "                                        common_names conservation_status  \n",
      "0                           Gapper's Red-Backed Vole                 NaN  \n",
      "1                              American Bison, Bison                 NaN  \n",
      "2  Aurochs, Aurochs, Domestic Cattle (Feral), Dom...                 NaN  \n",
      "3  Domestic Sheep, Mouflon, Red Sheep, Sheep (Feral)                 NaN  \n",
      "4                                      Wapiti Or Elk                 NaN  \n",
      "<class 'pandas.core.frame.DataFrame'>\n",
      "RangeIndex: 5824 entries, 0 to 5823\n",
      "Data columns (total 4 columns):\n",
      " #   Column               Non-Null Count  Dtype \n",
      "---  ------               --------------  ----- \n",
      " 0   category             5824 non-null   object\n",
      " 1   scientific_name      5824 non-null   object\n",
      " 2   common_names         5824 non-null   object\n",
      " 3   conservation_status  191 non-null    object\n",
      "dtypes: object(4)\n",
      "memory usage: 182.1+ KB\n",
      "None\n",
      "['Mammal' 'Bird' 'Reptile' 'Amphibian' 'Fish' 'Vascular Plant'\n",
      " 'Nonvascular Plant']\n",
      "['Clethrionomys gapperi gapperi' 'Bos bison' 'Bos taurus' ...\n",
      " 'Parthenocissus vitacea' 'Vitis californica' 'Tribulus terrestris']\n",
      "[\"Gapper's Red-Backed Vole\" 'American Bison, Bison'\n",
      " 'Aurochs, Aurochs, Domestic Cattle (Feral), Domesticated Cattle' ...\n",
      " 'Thicket Creeper, Virginia Creeper, Woodbine'\n",
      " 'California Grape, California Wild Grape'\n",
      " 'Bullhead, Caltrop, Goathead, Mexican Sandbur, Puncture Vine, Texas Sandbur']\n",
      "[nan 'Species of Concern' 'Endangered' 'Threatened' 'In Recovery']\n"
     ]
    }
   ],
   "source": [
    "print(species.head())\n",
    "print(species.info())\n",
    "print(species.category.unique())\n",
    "print(species.scientific_name.unique())\n",
    "print(species.common_names.unique())\n",
    "print(species.conservation_status.unique())"
   ]
  },
  {
   "cell_type": "markdown",
   "metadata": {},
   "source": [
    "Analyze the first dataset 'species'\n",
    "\n",
    "- first we need to replace nan value in conservation_status\n",
    "- conservation_status is ordinal variabe, so we can represent it as categorical value(but in recovery makes it difficult) "
   ]
  },
  {
   "cell_type": "code",
   "execution_count": 5,
   "metadata": {},
   "outputs": [],
   "source": [
    "species.conservation_status.fillna(value='No Intervention', inplace=True)\n",
    "\n",
    "#species.conservation_status=pd.Categorical(species.conservation_status, categories=['No Intervention','Species of Concern', 'Endangered', 'Threatened', 'In Recovery'],ordered=True)"
   ]
  },
  {
   "cell_type": "markdown",
   "metadata": {},
   "source": [
    "Let's take a look at the ratio of each status"
   ]
  },
  {
   "cell_type": "code",
   "execution_count": 6,
   "metadata": {},
   "outputs": [],
   "source": [
    "conservation_status_cross=pd.crosstab(species.conservation_status, columns='conservation_status')\n",
    "conservation_status_cross['ratio']=conservation_status_cross.conservation_status.apply(lambda entry: entry/conservation_status_cross.sum()*100.00)"
   ]
  },
  {
   "cell_type": "markdown",
   "metadata": {},
   "source": [
    "currently there are 16 endangered species, 4 species in recovery, 161 species in concern, and 10 threatened species."
   ]
  },
  {
   "cell_type": "code",
   "execution_count": 7,
   "metadata": {},
   "outputs": [
    {
     "data": {
      "text/html": [
       "<div>\n",
       "<style scoped>\n",
       "    .dataframe tbody tr th:only-of-type {\n",
       "        vertical-align: middle;\n",
       "    }\n",
       "\n",
       "    .dataframe tbody tr th {\n",
       "        vertical-align: top;\n",
       "    }\n",
       "\n",
       "    .dataframe thead th {\n",
       "        text-align: right;\n",
       "    }\n",
       "</style>\n",
       "<table border=\"1\" class=\"dataframe\">\n",
       "  <thead>\n",
       "    <tr style=\"text-align: right;\">\n",
       "      <th>col_0</th>\n",
       "      <th>conservation_status</th>\n",
       "      <th>ratio</th>\n",
       "    </tr>\n",
       "    <tr>\n",
       "      <th>conservation_status</th>\n",
       "      <th></th>\n",
       "      <th></th>\n",
       "    </tr>\n",
       "  </thead>\n",
       "  <tbody>\n",
       "    <tr>\n",
       "      <th>Endangered</th>\n",
       "      <td>16</td>\n",
       "      <td>0.274725</td>\n",
       "    </tr>\n",
       "    <tr>\n",
       "      <th>In Recovery</th>\n",
       "      <td>4</td>\n",
       "      <td>0.068681</td>\n",
       "    </tr>\n",
       "    <tr>\n",
       "      <th>No Intervention</th>\n",
       "      <td>5633</td>\n",
       "      <td>96.720467</td>\n",
       "    </tr>\n",
       "    <tr>\n",
       "      <th>Species of Concern</th>\n",
       "      <td>161</td>\n",
       "      <td>2.764423</td>\n",
       "    </tr>\n",
       "    <tr>\n",
       "      <th>Threatened</th>\n",
       "      <td>10</td>\n",
       "      <td>0.171703</td>\n",
       "    </tr>\n",
       "  </tbody>\n",
       "</table>\n",
       "</div>"
      ],
      "text/plain": [
       "col_0                conservation_status      ratio\n",
       "conservation_status                                \n",
       "Endangered                            16   0.274725\n",
       "In Recovery                            4   0.068681\n",
       "No Intervention                     5633  96.720467\n",
       "Species of Concern                   161   2.764423\n",
       "Threatened                            10   0.171703"
      ]
     },
     "execution_count": 7,
     "metadata": {},
     "output_type": "execute_result"
    }
   ],
   "source": [
    "conservation_status_cross"
   ]
  },
  {
   "cell_type": "markdown",
   "metadata": {},
   "source": [
    "Now, let's dig deeper about what the proportion is all numbers above.\n",
    "We can remove 'No Intervention' value because we are curious about those endangered species.\n",
    "\n",
    "\n",
    "We can see 3 bird species and 1 mammal species are in recovery.\n",
    "\n",
    "Bird has the most endangered species-->79.0\n",
    "\n",
    "Vascular Plant                      -->46.0\n",
    "\n",
    "Mammal                              -->38.0\n",
    "\n",
    "The graph shows vividly that Bird species are very endangered"
   ]
  },
  {
   "cell_type": "code",
   "execution_count": 8,
   "metadata": {},
   "outputs": [
    {
     "name": "stdout",
     "output_type": "stream",
     "text": [
      "category             Amphibian  Bird  Fish  Mammal  Nonvascular Plant  \\\n",
      "conservation_status                                                     \n",
      "Endangered                 1.0   4.0   3.0     7.0                NaN   \n",
      "In Recovery                NaN   3.0   NaN     1.0                NaN   \n",
      "Species of Concern         4.0  72.0   4.0    28.0                5.0   \n",
      "Threatened                 2.0   NaN   4.0     2.0                NaN   \n",
      "\n",
      "category             Reptile  Vascular Plant  \n",
      "conservation_status                           \n",
      "Endangered               NaN             1.0  \n",
      "In Recovery              NaN             NaN  \n",
      "Species of Concern       5.0            43.0  \n",
      "Threatened               NaN             2.0  \n",
      "category\n",
      "Amphibian             7.0\n",
      "Bird                 79.0\n",
      "Fish                 11.0\n",
      "Mammal               38.0\n",
      "Nonvascular Plant     5.0\n",
      "Reptile               5.0\n",
      "Vascular Plant       46.0\n",
      "dtype: float64\n"
     ]
    }
   ],
   "source": [
    "categorical_conservation_status=species[species.conservation_status!='No Intervention'].groupby(['conservation_status', 'category']).scientific_name.count().unstack()\n",
    "print(categorical_conservation_status)\n",
    "print(categorical_conservation_status.sum(axis=0))"
   ]
  },
  {
   "cell_type": "code",
   "execution_count": 9,
   "metadata": {},
   "outputs": [
    {
     "data": {
      "text/plain": [
       "Text(0, 0.5, 'Number of Species')"
      ]
     },
     "execution_count": 9,
     "metadata": {},
     "output_type": "execute_result"
    },
    {
     "data": {
      "image/png": "[encoded data removed]",
      "text/plain": [
       "<Figure size 576x432 with 1 Axes>"
      ]
     },
     "metadata": {
      "needs_background": "light"
     },
     "output_type": "display_data"
    }
   ],
   "source": [
    "ax = categorical_conservation_status.plot(kind = 'bar', figsize=(8,6), \n",
    "                               stacked=True)\n",
    "ax.set_xlabel(\"Conservation Status\")\n",
    "ax.set_ylabel(\"Number of Species\")"
   ]
  },
  {
   "cell_type": "markdown",
   "metadata": {},
   "source": [
    "Now we need to analyze this difference among category is significant or not.\n",
    "\n",
    "As we can see in the proportion of each category under the protection, mammal has the largest proportion.\n",
    "\n",
    "Result of chi2:\n",
    "- Mammal and Bird do not have significant difference\n",
    "- Bird has significant difference if the category has proportion less than 0.015\n",
    "- Mammal has significant difference if the category has proportion less than 0.086"
   ]
  },
  {
   "cell_type": "code",
   "execution_count": 10,
   "metadata": {},
   "outputs": [],
   "source": [
    "species['under_the_protection']=species.conservation_status.apply(lambda entry: True if entry != 'No Intervention' else False)\n",
    "category_protected_crosstab=pd.crosstab(species.category, species.under_the_protection)\n",
    "category_protected_crosstab.columns=['no_protection','under_the_protection']\n",
    "category_protected_crosstab_prop=category_protected_crosstab.copy()\n",
    "category_protected_crosstab_prop['proportion']=category_protected_crosstab_prop.apply(lambda row: row.under_the_protection/row.sum(), axis=1)"
   ]
  },
  {
   "cell_type": "code",
   "execution_count": 11,
   "metadata": {},
   "outputs": [
    {
     "data": {
      "text/html": [
       "<div>\n",
       "<style scoped>\n",
       "    .dataframe tbody tr th:only-of-type {\n",
       "        vertical-align: middle;\n",
       "    }\n",
       "\n",
       "    .dataframe tbody tr th {\n",
       "        vertical-align: top;\n",
       "    }\n",
       "\n",
       "    .dataframe thead th {\n",
       "        text-align: right;\n",
       "    }\n",
       "</style>\n",
       "<table border=\"1\" class=\"dataframe\">\n",
       "  <thead>\n",
       "    <tr style=\"text-align: right;\">\n",
       "      <th></th>\n",
       "      <th>no_protection</th>\n",
       "      <th>under_the_protection</th>\n",
       "      <th>proportion</th>\n",
       "    </tr>\n",
       "    <tr>\n",
       "      <th>category</th>\n",
       "      <th></th>\n",
       "      <th></th>\n",
       "      <th></th>\n",
       "    </tr>\n",
       "  </thead>\n",
       "  <tbody>\n",
       "    <tr>\n",
       "      <th>Amphibian</th>\n",
       "      <td>73</td>\n",
       "      <td>7</td>\n",
       "      <td>0.087500</td>\n",
       "    </tr>\n",
       "    <tr>\n",
       "      <th>Bird</th>\n",
       "      <td>442</td>\n",
       "      <td>79</td>\n",
       "      <td>0.151631</td>\n",
       "    </tr>\n",
       "    <tr>\n",
       "      <th>Fish</th>\n",
       "      <td>116</td>\n",
       "      <td>11</td>\n",
       "      <td>0.086614</td>\n",
       "    </tr>\n",
       "    <tr>\n",
       "      <th>Mammal</th>\n",
       "      <td>176</td>\n",
       "      <td>38</td>\n",
       "      <td>0.177570</td>\n",
       "    </tr>\n",
       "    <tr>\n",
       "      <th>Nonvascular Plant</th>\n",
       "      <td>328</td>\n",
       "      <td>5</td>\n",
       "      <td>0.015015</td>\n",
       "    </tr>\n",
       "    <tr>\n",
       "      <th>Reptile</th>\n",
       "      <td>74</td>\n",
       "      <td>5</td>\n",
       "      <td>0.063291</td>\n",
       "    </tr>\n",
       "    <tr>\n",
       "      <th>Vascular Plant</th>\n",
       "      <td>4424</td>\n",
       "      <td>46</td>\n",
       "      <td>0.010291</td>\n",
       "    </tr>\n",
       "  </tbody>\n",
       "</table>\n",
       "</div>"
      ],
      "text/plain": [
       "                   no_protection  under_the_protection  proportion\n",
       "category                                                          \n",
       "Amphibian                     73                     7    0.087500\n",
       "Bird                         442                    79    0.151631\n",
       "Fish                         116                    11    0.086614\n",
       "Mammal                       176                    38    0.177570\n",
       "Nonvascular Plant            328                     5    0.015015\n",
       "Reptile                       74                     5    0.063291\n",
       "Vascular Plant              4424                    46    0.010291"
      ]
     },
     "execution_count": 11,
     "metadata": {},
     "output_type": "execute_result"
    }
   ],
   "source": [
    "category_protected_crosstab_prop"
   ]
  },
  {
   "cell_type": "code",
   "execution_count": 12,
   "metadata": {},
   "outputs": [
    {
     "name": "stdout",
     "output_type": "stream",
     "text": [
      "Amphibian Nonvascular Plant 0.001965876648469202\n",
      "Amphibian Vascular Plant 4.808329919269597e-09\n",
      "Bird Nonvascular Plant 1.355139751924416e-10\n",
      "Bird Vascular Plant 9.296288431402029e-84\n",
      "Fish Mammal 0.031145264082780604\n",
      "Fish Nonvascular Plant 0.0005357944004524846\n",
      "Fish Vascular Plant 3.9307221656919953e-13\n",
      "Mammal Fish 0.031145264082780604\n",
      "Mammal Nonvascular Plant 1.6818930744695664e-11\n",
      "Mammal Reptile 0.02338465214871547\n",
      "Mammal Vascular Plant 1.7349112437604003e-70\n",
      "Nonvascular Plant Amphibian 0.001965876648469202\n",
      "Nonvascular Plant Bird 1.3551397519244125e-10\n",
      "Nonvascular Plant Fish 0.0005357944004524846\n",
      "Nonvascular Plant Mammal 1.6818930744695664e-11\n",
      "Nonvascular Plant Reptile 0.03571937673410538\n",
      "Reptile Mammal 0.02338465214871547\n",
      "Reptile Nonvascular Plant 0.03571937673410538\n",
      "Reptile Vascular Plant 9.772802684315545e-05\n",
      "Vascular Plant Amphibian 4.808329919269614e-09\n",
      "Vascular Plant Bird 9.296288431402292e-84\n",
      "Vascular Plant Fish 3.9307221656919953e-13\n",
      "Vascular Plant Mammal 1.73491124376035e-70\n",
      "Vascular Plant Reptile 9.772802684315545e-05\n"
     ]
    }
   ],
   "source": [
    "from scipy.stats import chi2_contingency\n",
    "for index_0 in category_protected_crosstab.index:\n",
    "    for index_1 in category_protected_crosstab.index:\n",
    "        chi2, pval, dof, expected=chi2_contingency(category_protected_crosstab.loc[[index_0, index_1]])\n",
    "        if pval<0.05:\n",
    "            print(index_0, index_1, pval)\n"
   ]
  },
  {
   "cell_type": "markdown",
   "metadata": {},
   "source": [
    "We also need to analyze what animals are most prevalent to see observations across four parks\n",
    "\n",
    "Let's make a dataset to count the occurece of names"
   ]
  },
  {
   "cell_type": "code",
   "execution_count": 113,
   "metadata": {},
   "outputs": [],
   "source": [
    "import string\n",
    "\n",
    "def find_prevalent_animal(category):\n",
    "    common_names=species[species.category==category].common_names\n",
    "    split_names=[]\n",
    "    for names in common_names:\n",
    "        for punctuation in string.punctuation:\n",
    "            names=names.replace(punctuation, '')\n",
    "        names=names.split(' ')\n",
    "        split_names.append(names)\n",
    "    clean_data=[]\n",
    "    split_data=[]\n",
    "    for name_row in split_names:\n",
    "        for item in name_row:\n",
    "            split_data.append(item)\n",
    "            if item not in clean_data:\n",
    "                clean_data.append(item)\n",
    "    words_count=[]\n",
    "    for name in clean_data:\n",
    "        count=split_data.count(name)\n",
    "        words_count.append((name, count))\n",
    "    words_count=pd.DataFrame(words_count, columns=['Name','Count']).sort_values('Count', ascending=False).reset_index()\n",
    "    return words_count"
   ]
  },
  {
   "cell_type": "markdown",
   "metadata": {},
   "source": [
    "Choose the highest occurence and merge the dataset with observation to check how many observations this animal has across each park"
   ]
  },
  {
   "cell_type": "code",
   "execution_count": 163,
   "metadata": {},
   "outputs": [],
   "source": [
    "import re\n",
    "def extract_prevalent_animal(category):\n",
    "    mammal_count=find_prevalent_animal(category)\n",
    "    rege=r\"\\b\" + re.escape(mammal_count.iloc[0].Name) + r\"\\b\"\n",
    "    name=mammal_count.iloc[0].Name\n",
    "    species['is_animal_name_in']=species.common_names.str.contains(rege,regex=True, case=False)\n",
    "    prevalent_dataset=species[species.is_animal_name_in].reset_index()\n",
    "    prevalent_dataset.drop(columns=['index'], inplace=True)\n",
    "    print(len(prevalent_dataset))\n",
    "    prevalent_dataset=prevalent_dataset.merge(observation)\n",
    "    return name, prevalent_dataset\n"
   ]
  },
  {
   "cell_type": "markdown",
   "metadata": {},
   "source": [
    "Example of Mammal:\n",
    "- The most prevalent animal is Bat\n",
    "- Bryce has 3433, Great Smoky has 2411, Yellowstone has 8362, and Yosemite has 4786\n",
    "- 23 diffrent kinds of Bat \n",
    "- all parks have less number of under_the_protection bat than number of animals without protection\n",
    "- Yellowstone has the most bat no matter if it is protected or not"
   ]
  },
  {
   "cell_type": "code",
   "execution_count": 164,
   "metadata": {},
   "outputs": [
    {
     "name": "stdout",
     "output_type": "stream",
     "text": [
      "23\n"
     ]
    },
    {
     "data": {
      "text/html": [
       "<div>\n",
       "<style scoped>\n",
       "    .dataframe tbody tr th:only-of-type {\n",
       "        vertical-align: middle;\n",
       "    }\n",
       "\n",
       "    .dataframe tbody tr th {\n",
       "        vertical-align: top;\n",
       "    }\n",
       "\n",
       "    .dataframe thead th {\n",
       "        text-align: right;\n",
       "    }\n",
       "</style>\n",
       "<table border=\"1\" class=\"dataframe\">\n",
       "  <thead>\n",
       "    <tr style=\"text-align: right;\">\n",
       "      <th></th>\n",
       "      <th>park_name</th>\n",
       "      <th>observations</th>\n",
       "    </tr>\n",
       "  </thead>\n",
       "  <tbody>\n",
       "    <tr>\n",
       "      <th>0</th>\n",
       "      <td>Bryce National Park</td>\n",
       "      <td>3433</td>\n",
       "    </tr>\n",
       "    <tr>\n",
       "      <th>1</th>\n",
       "      <td>Great Smoky Mountains National Park</td>\n",
       "      <td>2411</td>\n",
       "    </tr>\n",
       "    <tr>\n",
       "      <th>2</th>\n",
       "      <td>Yellowstone National Park</td>\n",
       "      <td>8362</td>\n",
       "    </tr>\n",
       "    <tr>\n",
       "      <th>3</th>\n",
       "      <td>Yosemite National Park</td>\n",
       "      <td>4786</td>\n",
       "    </tr>\n",
       "  </tbody>\n",
       "</table>\n",
       "</div>"
      ],
      "text/plain": [
       "                             park_name  observations\n",
       "0                  Bryce National Park          3433\n",
       "1  Great Smoky Mountains National Park          2411\n",
       "2            Yellowstone National Park          8362\n",
       "3               Yosemite National Park          4786"
      ]
     },
     "execution_count": 164,
     "metadata": {},
     "output_type": "execute_result"
    }
   ],
   "source": [
    "name, observation_dataset=extract_prevalent_animal(\"Mammal\")\n",
    "observation_dataset.groupby(['park_name']).observations.sum().reset_index()"
   ]
  },
  {
   "cell_type": "code",
   "execution_count": 165,
   "metadata": {},
   "outputs": [
    {
     "data": {
      "text/html": [
       "<div>\n",
       "<style scoped>\n",
       "    .dataframe tbody tr th:only-of-type {\n",
       "        vertical-align: middle;\n",
       "    }\n",
       "\n",
       "    .dataframe tbody tr th {\n",
       "        vertical-align: top;\n",
       "    }\n",
       "\n",
       "    .dataframe thead th {\n",
       "        text-align: right;\n",
       "    }\n",
       "</style>\n",
       "<table border=\"1\" class=\"dataframe\">\n",
       "  <thead>\n",
       "    <tr style=\"text-align: right;\">\n",
       "      <th></th>\n",
       "      <th>park_name</th>\n",
       "      <th>under_the_protection</th>\n",
       "      <th>observations</th>\n",
       "    </tr>\n",
       "  </thead>\n",
       "  <tbody>\n",
       "    <tr>\n",
       "      <th>0</th>\n",
       "      <td>Bryce National Park</td>\n",
       "      <td>False</td>\n",
       "      <td>1596</td>\n",
       "    </tr>\n",
       "    <tr>\n",
       "      <th>1</th>\n",
       "      <td>Bryce National Park</td>\n",
       "      <td>True</td>\n",
       "      <td>1837</td>\n",
       "    </tr>\n",
       "    <tr>\n",
       "      <th>2</th>\n",
       "      <td>Great Smoky Mountains National Park</td>\n",
       "      <td>False</td>\n",
       "      <td>1299</td>\n",
       "    </tr>\n",
       "    <tr>\n",
       "      <th>3</th>\n",
       "      <td>Great Smoky Mountains National Park</td>\n",
       "      <td>True</td>\n",
       "      <td>1112</td>\n",
       "    </tr>\n",
       "    <tr>\n",
       "      <th>4</th>\n",
       "      <td>Yellowstone National Park</td>\n",
       "      <td>False</td>\n",
       "      <td>4044</td>\n",
       "    </tr>\n",
       "    <tr>\n",
       "      <th>5</th>\n",
       "      <td>Yellowstone National Park</td>\n",
       "      <td>True</td>\n",
       "      <td>4318</td>\n",
       "    </tr>\n",
       "    <tr>\n",
       "      <th>6</th>\n",
       "      <td>Yosemite National Park</td>\n",
       "      <td>False</td>\n",
       "      <td>2345</td>\n",
       "    </tr>\n",
       "    <tr>\n",
       "      <th>7</th>\n",
       "      <td>Yosemite National Park</td>\n",
       "      <td>True</td>\n",
       "      <td>2441</td>\n",
       "    </tr>\n",
       "  </tbody>\n",
       "</table>\n",
       "</div>"
      ],
      "text/plain": [
       "                             park_name  under_the_protection  observations\n",
       "0                  Bryce National Park                 False          1596\n",
       "1                  Bryce National Park                  True          1837\n",
       "2  Great Smoky Mountains National Park                 False          1299\n",
       "3  Great Smoky Mountains National Park                  True          1112\n",
       "4            Yellowstone National Park                 False          4044\n",
       "5            Yellowstone National Park                  True          4318\n",
       "6               Yosemite National Park                 False          2345\n",
       "7               Yosemite National Park                  True          2441"
      ]
     },
     "execution_count": 165,
     "metadata": {},
     "output_type": "execute_result"
    }
   ],
   "source": [
    "observation_dataset.groupby(['park_name','under_the_protection']).observations.sum().reset_index()"
   ]
  },
  {
   "cell_type": "code",
   "execution_count": 166,
   "metadata": {},
   "outputs": [
    {
     "data": {
      "image/png": "[encoded data removed]",
      "text/plain": [
       "<Figure size 1152x288 with 1 Axes>"
      ]
     },
     "metadata": {
      "needs_background": "light"
     },
     "output_type": "display_data"
    }
   ],
   "source": [
    "plt.figure(figsize=(16, 4))\n",
    "sns.barplot(x=observation_dataset.park_name, y= observation_dataset.observations, hue=observation_dataset.under_the_protection)\n",
    "plt.xlabel('National Parks')\n",
    "plt.ylabel('Number of Observations')\n",
    "plt.title('Observations of '+name+' per Week')\n",
    "plt.show()"
   ]
  },
  {
   "cell_type": "markdown",
   "metadata": {},
   "source": [
    "The example of Bird:\n",
    "- The most prevalent animal is Warbler\n",
    "- Bryce has 5760, Great Smoky Mountains has 4435, Yellowstone has 14487, and Yosemite has 8712\n",
    "- As well as Bat, Yellowstone has the most obervation\n",
    "- Observations of endangered birds are lower than observations of not-protected birds"
   ]
  },
  {
   "cell_type": "code",
   "execution_count": 170,
   "metadata": {},
   "outputs": [
    {
     "name": "stdout",
     "output_type": "stream",
     "text": [
      "59\n",
      "Warbler\n"
     ]
    },
    {
     "data": {
      "text/html": [
       "<div>\n",
       "<style scoped>\n",
       "    .dataframe tbody tr th:only-of-type {\n",
       "        vertical-align: middle;\n",
       "    }\n",
       "\n",
       "    .dataframe tbody tr th {\n",
       "        vertical-align: top;\n",
       "    }\n",
       "\n",
       "    .dataframe thead th {\n",
       "        text-align: right;\n",
       "    }\n",
       "</style>\n",
       "<table border=\"1\" class=\"dataframe\">\n",
       "  <thead>\n",
       "    <tr style=\"text-align: right;\">\n",
       "      <th></th>\n",
       "      <th>park_name</th>\n",
       "      <th>observations</th>\n",
       "    </tr>\n",
       "  </thead>\n",
       "  <tbody>\n",
       "    <tr>\n",
       "      <th>0</th>\n",
       "      <td>Bryce National Park</td>\n",
       "      <td>5760</td>\n",
       "    </tr>\n",
       "    <tr>\n",
       "      <th>1</th>\n",
       "      <td>Great Smoky Mountains National Park</td>\n",
       "      <td>4435</td>\n",
       "    </tr>\n",
       "    <tr>\n",
       "      <th>2</th>\n",
       "      <td>Yellowstone National Park</td>\n",
       "      <td>14487</td>\n",
       "    </tr>\n",
       "    <tr>\n",
       "      <th>3</th>\n",
       "      <td>Yosemite National Park</td>\n",
       "      <td>8712</td>\n",
       "    </tr>\n",
       "  </tbody>\n",
       "</table>\n",
       "</div>"
      ],
      "text/plain": [
       "                             park_name  observations\n",
       "0                  Bryce National Park          5760\n",
       "1  Great Smoky Mountains National Park          4435\n",
       "2            Yellowstone National Park         14487\n",
       "3               Yosemite National Park          8712"
      ]
     },
     "execution_count": 170,
     "metadata": {},
     "output_type": "execute_result"
    }
   ],
   "source": [
    "name, observation_dataset=extract_prevalent_animal(\"Bird\")\n",
    "print(name)\n",
    "observation_dataset.groupby(['park_name']).observations.sum().reset_index()"
   ]
  },
  {
   "cell_type": "code",
   "execution_count": 168,
   "metadata": {},
   "outputs": [
    {
     "data": {
      "text/html": [
       "<div>\n",
       "<style scoped>\n",
       "    .dataframe tbody tr th:only-of-type {\n",
       "        vertical-align: middle;\n",
       "    }\n",
       "\n",
       "    .dataframe tbody tr th {\n",
       "        vertical-align: top;\n",
       "    }\n",
       "\n",
       "    .dataframe thead th {\n",
       "        text-align: right;\n",
       "    }\n",
       "</style>\n",
       "<table border=\"1\" class=\"dataframe\">\n",
       "  <thead>\n",
       "    <tr style=\"text-align: right;\">\n",
       "      <th></th>\n",
       "      <th>park_name</th>\n",
       "      <th>under_the_protection</th>\n",
       "      <th>observations</th>\n",
       "    </tr>\n",
       "  </thead>\n",
       "  <tbody>\n",
       "    <tr>\n",
       "      <th>0</th>\n",
       "      <td>Bryce National Park</td>\n",
       "      <td>False</td>\n",
       "      <td>5565</td>\n",
       "    </tr>\n",
       "    <tr>\n",
       "      <th>1</th>\n",
       "      <td>Bryce National Park</td>\n",
       "      <td>True</td>\n",
       "      <td>195</td>\n",
       "    </tr>\n",
       "    <tr>\n",
       "      <th>2</th>\n",
       "      <td>Great Smoky Mountains National Park</td>\n",
       "      <td>False</td>\n",
       "      <td>4290</td>\n",
       "    </tr>\n",
       "    <tr>\n",
       "      <th>3</th>\n",
       "      <td>Great Smoky Mountains National Park</td>\n",
       "      <td>True</td>\n",
       "      <td>145</td>\n",
       "    </tr>\n",
       "    <tr>\n",
       "      <th>4</th>\n",
       "      <td>Yellowstone National Park</td>\n",
       "      <td>False</td>\n",
       "      <td>13995</td>\n",
       "    </tr>\n",
       "    <tr>\n",
       "      <th>5</th>\n",
       "      <td>Yellowstone National Park</td>\n",
       "      <td>True</td>\n",
       "      <td>492</td>\n",
       "    </tr>\n",
       "    <tr>\n",
       "      <th>6</th>\n",
       "      <td>Yosemite National Park</td>\n",
       "      <td>False</td>\n",
       "      <td>8441</td>\n",
       "    </tr>\n",
       "    <tr>\n",
       "      <th>7</th>\n",
       "      <td>Yosemite National Park</td>\n",
       "      <td>True</td>\n",
       "      <td>271</td>\n",
       "    </tr>\n",
       "  </tbody>\n",
       "</table>\n",
       "</div>"
      ],
      "text/plain": [
       "                             park_name  under_the_protection  observations\n",
       "0                  Bryce National Park                 False          5565\n",
       "1                  Bryce National Park                  True           195\n",
       "2  Great Smoky Mountains National Park                 False          4290\n",
       "3  Great Smoky Mountains National Park                  True           145\n",
       "4            Yellowstone National Park                 False         13995\n",
       "5            Yellowstone National Park                  True           492\n",
       "6               Yosemite National Park                 False          8441\n",
       "7               Yosemite National Park                  True           271"
      ]
     },
     "execution_count": 168,
     "metadata": {},
     "output_type": "execute_result"
    }
   ],
   "source": [
    "observation_dataset.groupby(['park_name','under_the_protection']).observations.sum().reset_index()"
   ]
  },
  {
   "cell_type": "code",
   "execution_count": 169,
   "metadata": {},
   "outputs": [
    {
     "data": {
      "image/png": "[encoded data removed]",
      "text/plain": [
       "<Figure size 1152x288 with 1 Axes>"
      ]
     },
     "metadata": {
      "needs_background": "light"
     },
     "output_type": "display_data"
    }
   ],
   "source": [
    "plt.figure(figsize=(16, 4))\n",
    "sns.barplot(x=observation_dataset.park_name, y= observation_dataset.observations, hue=observation_dataset.under_the_protection)\n",
    "plt.xlabel('National Parks')\n",
    "plt.ylabel('Number of Observations')\n",
    "plt.title('Observations of '+name+' per Week')\n",
    "plt.show()"
   ]
  },
  {
   "cell_type": "markdown",
   "metadata": {},
   "source": [
    "# Conclusion\n",
    "The project was able to make several data visualizations and inferences about the various species in four of the National Parks that comprised this data set.\n",
    "\n",
    "Answer for each questions:\n",
    "- What is the percentage of each conservation_status for species\n",
    "    - Endangered    0.274725%\n",
    "    - In Recovery\t0.068681%\n",
    "    - No Intervention   96.720467%\n",
    "    - Species of Concern    2.764423%\n",
    "    - Threatened\t0.171703%\n",
    "    - The majority of species are not a part of conservation (5633 vs 191)\n",
    "- How each category is distributed into conservation_status\n",
    "    - Amphibian\t73\t7\t8.7500%     --> 73 species are not protected. 7 species are under the protection. The percentage of protected species is 8.75%\n",
    "    - Bird\t442\t79\t15.1631%        --> 442 species are not protected. 79 species are under the protection. The percentage of protected species is 15.1631%\n",
    "    - Fish\t116\t11\t8.6614%         --> 116 species are not protected. 11 species are under the protection. The percentage of protected species is 8.6614%\n",
    "    - Mammal\t176\t38\t17.7570%    --> 176 species are not protected. 38 species are under the protection. The percentage of protected species is 17.757%\n",
    "    - Nonvascular Plant\t328\t5\t1.5015%     --> 328 species are not protected. 5 species are under the protection. The percentage of protected species is 1.5015%\n",
    "    - Reptile\t74\t5\t6.3291%     --> 74 species are not protected. 5 species are under the protection. The percentage of protected species is 6.3291%\n",
    "    - Vascular Plant\t4424\t46\t1.0291%     --> 4424 species are not protected. 46 species are under the protection. The percentage of protected species is 1.0291%\n",
    "    - Bird, Vascular Plant and Mammal have the highest number of protection, but only Mammal and Bird have the highest percentage of protected species against a wholsome.\n",
    "- Are the differences between species and their conservation status significant\n",
    "    - Mammal and Bird do not have a significant difference\n",
    "    - Bird has significant difference if the category has the proportion less than 1.5016%\n",
    "    - Mammal has significant difference if the category has the proportion less than 8.6614% \n",
    "- Which animal is most prevalent and what the distribution for this animal is across each park\n",
    "    - In the case of Mammal, Bat is the most prevalent species.\n",
    "    - In the case of Bird, Warbler is the most prevalent species.\n",
    "    - Yellowstone National park has the largest number of both species. \n",
    "    "
   ]
  }
 ],
 "metadata": {
  "kernelspec": {
   "display_name": "Python 3.9.12 ('base')",
   "language": "python",
   "name": "python3"
  },
  "language_info": {
   "codemirror_mode": {
    "name": "ipython",
    "version": 3
   },
   "file_extension": ".py",
   "mimetype": "text/x-python",
   "name": "python",
   "nbconvert_exporter": "python",
   "pygments_lexer": "ipython3",
   "version": "3.9.12"
  },
  "vscode": {
   "interpreter": {
    "hash": "a54a4f96a192e48ee2064855e05e452f1b7735ee6d18d92e02fe1f7e00027b5c"
   }
  }
 },
 "nbformat": 4,
 "nbformat_minor": 4
}
